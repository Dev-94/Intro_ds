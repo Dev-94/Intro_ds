{
 "cells": [
  {
   "cell_type": "markdown",
   "metadata": {},
   "source": [
    "![](https://snag.gy/h9Xwf1.jpg)"
   ]
  },
  {
   "cell_type": "code",
   "execution_count": 9,
   "metadata": {},
   "outputs": [
    {
     "name": "stdout",
     "output_type": "stream",
     "text": [
      "0.23.4\n"
     ]
    }
   ],
   "source": [
    "## Import pandas\n",
    "import pandas as pd\n",
    "\n",
    "## Check your version of Pandas \n",
    "print(pd.__version__)\n",
    "\n",
    "## Load plotting libraries \n",
    "import seaborn as sns\n",
    "import matplotlib.pyplot as plt\n",
    "\n",
    "# Make plots show automatically \n",
    "%matplotlib inline"
   ]
  },
  {
   "cell_type": "markdown",
   "metadata": {},
   "source": [
    "<a id='introduction'></a>\n",
    "\n",
    "### What is `pandas`?\n",
    "\n",
    "---\n",
    "\n",
    "- Data analysis library - **P**anel **D**ata **S**ystem.\n",
    "- Created by Wes McKinney and Open Sourced by AQR Capital Management, LLC 2009.\n",
    "- Implemented in highly optimized Python/Cython.\n",
    "- Most ubiquitous tool used to start data analysis projects within the Python scientific ecosystem."
   ]
  },
  {
   "cell_type": "code",
   "execution_count": 7,
   "metadata": {},
   "outputs": [],
   "source": [
    "## Load the csv file into a dataframe object \n",
    "\n",
    "iris = pd.read_csv('https://raw.githubusercontent.com/venky14/iris-dataset/master/iris-species/Iris.csv')"
   ]
  },
  {
   "cell_type": "markdown",
   "metadata": {},
   "source": [
    "\n",
    "### Exploring data using DataFrames\n",
    "\n",
    "---\n",
    "\n",
    "DataFrames come with built-in functionality that makes data exploration easy. \n",
    "\n",
    "Let's start by looking at the \"header\" of your data with the ```.head()``` built-in function. If run alone in a notebook cell, it will show you the first and last handful of columns and the first 5 rows."
   ]
  },
  {
   "cell_type": "code",
   "execution_count": 1,
   "metadata": {
    "scrolled": true
   },
   "outputs": [],
   "source": [
    "## view the head (first 5 rows) of the data\n"
   ]
  },
  {
   "cell_type": "markdown",
   "metadata": {},
   "source": [
    "### Data dimensions\n",
    "\n",
    "---\n",
    "\n",
    "It's good to look at what the dimensions of your data are. The ```.shape``` property will tell you the rows and colum counts of your DataFrame."
   ]
  },
  {
   "cell_type": "code",
   "execution_count": 2,
   "metadata": {},
   "outputs": [],
   "source": [
    "## your code \n",
    "\n"
   ]
  },
  {
   "cell_type": "markdown",
   "metadata": {},
   "source": [
    "### Practice\n",
    "\n",
    "Try yourself to use the functions below to answer the four questions \n",
    "\n",
    "``` python\n",
    "\n",
    ".info()\n",
    ".dtypes\n",
    ".mean()\n",
    ".describe()\n",
    "```\n",
    "\n",
    "#### Exercise:\n",
    "\n",
    "- How much memory does the dataframe use?\n",
    "- How many different data types are we working with?\n",
    "- What is the average sepal length? \n",
    "- What is the maximum petal length? "
   ]
  },
  {
   "cell_type": "code",
   "execution_count": 5,
   "metadata": {},
   "outputs": [],
   "source": [
    "## Your code here \n"
   ]
  },
  {
   "cell_type": "code",
   "execution_count": 4,
   "metadata": {},
   "outputs": [],
   "source": [
    "## Your code here \n"
   ]
  },
  {
   "cell_type": "code",
   "execution_count": 6,
   "metadata": {},
   "outputs": [],
   "source": [
    "## Your code here \n"
   ]
  },
  {
   "cell_type": "code",
   "execution_count": 5,
   "metadata": {},
   "outputs": [],
   "source": [
    "## Your code here \n"
   ]
  },
  {
   "cell_type": "markdown",
   "metadata": {},
   "source": []
  },
  {
   "cell_type": "markdown",
   "metadata": {},
   "source": [
    "### Groupby and Boolean filtering\n",
    "\n",
    "How would we get the mean petal length for a specific species of Iris? \n",
    "\n",
    "``` python\n",
    "\n",
    "iris.groupby('Species')['PetalLengthCm'].mean()\n",
    "\n",
    "iris[iris['Species'] == 'Iris-setosa']['PetalLengthCm'].mean()\n",
    "\n",
    "\n",
    "```"
   ]
  },
  {
   "cell_type": "code",
   "execution_count": 7,
   "metadata": {},
   "outputs": [],
   "source": [
    "## Your code here\n",
    "\n"
   ]
  }
 ],
 "metadata": {
  "kernelspec": {
   "display_name": "Python 3",
   "language": "python",
   "name": "python3"
  },
  "language_info": {
   "codemirror_mode": {
    "name": "ipython",
    "version": 3
   },
   "file_extension": ".py",
   "mimetype": "text/x-python",
   "name": "python",
   "nbconvert_exporter": "python",
   "pygments_lexer": "ipython3",
   "version": "3.6.6"
  }
 },
 "nbformat": 4,
 "nbformat_minor": 2
}
